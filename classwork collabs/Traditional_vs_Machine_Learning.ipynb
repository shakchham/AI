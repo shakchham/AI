{
  "nbformat": 4,
  "nbformat_minor": 0,
  "metadata": {
    "colab": {
      "provenance": []
    },
    "kernelspec": {
      "name": "python3",
      "display_name": "Python 3"
    },
    "language_info": {
      "name": "python"
    }
  },
  "cells": [
    {
      "cell_type": "markdown",
      "source": [
        "#Traditonal Programming vs Machine Learning"
      ],
      "metadata": {
        "id": "FSHc7HrJA9q1"
      }
    },
    {
      "cell_type": "code",
      "execution_count": null,
      "metadata": {
        "colab": {
          "base_uri": "https://localhost:8080/"
        },
        "id": "k36fByr2_6Oa",
        "outputId": "8ee9384f-6b3c-4425-9cc2-c13fb7872d17"
      },
      "outputs": [
        {
          "output_type": "stream",
          "name": "stdout",
          "text": [
            "True\n"
          ]
        }
      ],
      "source": [
        "#Traditional Programming: You give the rules and data and get output\n",
        "# Machine Learning: You give the data and output and model will find the rules\n",
        "\n",
        "# Traditional Programming\n",
        "def is_even(num):\n",
        "  return num % 2 ==0\n",
        "\n",
        "print(is_even(2))\n",
        "\n",
        "# ML Thinking(Pseudo Thinking)\n",
        "# Data:[2,4,6,8,10] # Even numbers\n",
        "# Data:[1,3,5,7,9] # Odd number\n",
        "\n",
        "# Goal: Let the ML model find patterns and classify new numbers"
      ]
    },
    {
      "cell_type": "markdown",
      "source": [
        "## Predicting Odd vs Even using Decision Tree"
      ],
      "metadata": {
        "id": "r2CChtRLErjy"
      }
    },
    {
      "cell_type": "code",
      "source": [
        "#importing libraries\n",
        "import pandas as pd\n",
        "from sklearn.tree import DecisionTreeClassifier\n",
        "\n",
        "#preparing Data\n",
        "X = pd.DataFrame({'numer': list(range(1, 10001))})\n",
        "y = ['odd' if i % 2 != 0 else 'even' for i in range(1, 10001)]\n",
        "\n",
        "#Creating Model\n",
        "model=DecisionTreeClassifier()\n",
        "\n",
        "#Training Model\n",
        "model.fit(X,y)\n",
        "\n",
        "#Making Predictions\n",
        "print(model.predict([[10001]]))"
      ],
      "metadata": {
        "colab": {
          "base_uri": "https://localhost:8080/"
        },
        "id": "uSsfF-5WDKtf",
        "outputId": "17d4a224-fefb-4fac-a04c-9527beca8215"
      },
      "execution_count": null,
      "outputs": [
        {
          "output_type": "stream",
          "name": "stdout",
          "text": [
            "['even']\n"
          ]
        },
        {
          "output_type": "stream",
          "name": "stderr",
          "text": [
            "/usr/local/lib/python3.11/dist-packages/sklearn/utils/validation.py:2739: UserWarning: X does not have valid feature names, but DecisionTreeClassifier was fitted with feature names\n",
            "  warnings.warn(\n"
          ]
        }
      ]
    },
    {
      "cell_type": "code",
      "source": [
        "# Importing libraries\n",
        "import pandas as pd\n",
        "from sklearn.tree import DecisionTreeClassifier\n",
        "\n",
        "# Load data from CSV\n",
        "df = pd.read_csv(\"enhanced_temperature_labels.csv\")\n",
        "\n",
        "# Prepare features and labels\n",
        "X = df[['Temperature (°C)']]  # Feature must be 2D\n",
        "y = df['Climate Label']       # Target\n",
        "\n",
        "# Create and train the model\n",
        "model = DecisionTreeClassifier()\n",
        "model.fit(X, y)\n",
        "\n",
        "input_temp=input(\"enter a temp\")  # You can change this value\n",
        "prediction = model.predict([[input_temp]])\n",
        "\n",
        "print(f\"Predicted climate label for {input_temp}°C is: {prediction[0]}\")\n"
      ],
      "metadata": {
        "colab": {
          "base_uri": "https://localhost:8080/"
        },
        "id": "dYMXnPObR1x8",
        "outputId": "cf04e5f5-4c4c-4dcf-ed7d-6b922c1ec3c8"
      },
      "execution_count": null,
      "outputs": [
        {
          "output_type": "stream",
          "name": "stdout",
          "text": [
            "enter a temp30\n",
            "Predicted climate label for 30°C is: Hot\n"
          ]
        },
        {
          "output_type": "stream",
          "name": "stderr",
          "text": [
            "/usr/local/lib/python3.11/dist-packages/sklearn/utils/validation.py:2739: UserWarning: X does not have valid feature names, but DecisionTreeClassifier was fitted with feature names\n",
            "  warnings.warn(\n"
          ]
        }
      ]
    },
    {
      "cell_type": "code",
      "source": [
        "# import pandas as pd\n",
        "# import numpy as np\n",
        "\n",
        "# def generate_speed_condition_csv(filename=\"speed_conditions.csv\"):\n",
        "#     # Generate 1000 random speeds between 0 and 150 km/h\n",
        "#     np.random.seed(42)\n",
        "#     speeds = np.random.uniform(0, 150, 1000).round(1)\n",
        "\n",
        "#     # Define labeling function\n",
        "#     def label_speed(speed):\n",
        "#         if speed <= 20:\n",
        "#             return 'Very Slow'\n",
        "#         elif 21 <= speed <= 60:\n",
        "#             return 'Normal'\n",
        "#         elif 61 <= speed <= 100:\n",
        "#             return 'Fast'\n",
        "#         else:\n",
        "#             return 'Over Speed'\n",
        "\n",
        "#     # Apply labels\n",
        "#     labels = [label_speed(s) for s in speeds]\n",
        "\n",
        "#     # Create DataFrame\n",
        "#     df = pd.DataFrame({'Speed (km/h)': speeds, 'Driving Condition': labels})\n",
        "\n",
        "#     # Save as CSV\n",
        "#     df.to_csv(filename, index=False)\n",
        "#     print(f\"✅ CSV file '{filename}' created with 1000 labeled speeds.\")\n",
        "\n",
        "# # Run the function\n",
        "# generate_speed_condition_csv()\n"
      ],
      "metadata": {
        "id": "Ena0fvP1yKvJ"
      },
      "execution_count": null,
      "outputs": []
    },
    {
      "cell_type": "code",
      "source": [
        "# Importing libraries\n",
        "import pandas as pd\n",
        "from sklearn.tree import DecisionTreeClassifier\n",
        "\n",
        "# Load data from CSV\n",
        "df = pd.read_csv(\"speed_conditions.csv\")\n",
        "\n",
        "# Prepare features and labels\n",
        "X = df[['Speed (km/h)']]          # Feature must be 2D\n",
        "y = df['Driving Condition']       # Target\n",
        "\n",
        "# Create and train the model\n",
        "model = DecisionTreeClassifier()\n",
        "model.fit(X, y)\n",
        "\n",
        "# Take speed input from user\n",
        "input_speed = float(input(\"Enter speed in km/h: \"))\n",
        "\n",
        "# Predict the driving condition\n",
        "prediction = model.predict([[input_speed]])\n",
        "\n",
        "# Print the result\n",
        "print(f\"Predicted driving condition for {input_speed} km/h is: {prediction[0]}\")\n"
      ],
      "metadata": {
        "colab": {
          "base_uri": "https://localhost:8080/"
        },
        "id": "ifD94lUkximg",
        "outputId": "f0292c88-9ec2-4cce-8faa-f3259c6555cf"
      },
      "execution_count": null,
      "outputs": [
        {
          "output_type": "stream",
          "name": "stdout",
          "text": [
            "Enter speed in km/h: 15\n",
            "Predicted driving condition for 15.0 km/h is: Very Slow\n"
          ]
        },
        {
          "output_type": "stream",
          "name": "stderr",
          "text": [
            "/usr/local/lib/python3.11/dist-packages/sklearn/utils/validation.py:2739: UserWarning: X does not have valid feature names, but DecisionTreeClassifier was fitted with feature names\n",
            "  warnings.warn(\n"
          ]
        }
      ]
    },
    {
      "cell_type": "code",
      "source": [],
      "metadata": {
        "id": "3U3sFby0x_gH"
      },
      "execution_count": null,
      "outputs": []
    }
  ]
}